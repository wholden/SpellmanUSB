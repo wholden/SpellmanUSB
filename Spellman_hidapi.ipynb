{
 "cells": [
  {
   "cell_type": "code",
   "execution_count": 1,
   "metadata": {
    "collapsed": true
   },
   "outputs": [],
   "source": [
    "import hid\n",
    "import time\n",
    "import numpy as np"
   ]
  },
  {
   "cell_type": "code",
   "execution_count": 15,
   "metadata": {
    "collapsed": true
   },
   "outputs": [],
   "source": [
    "h=hid.device()"
   ]
  },
  {
   "cell_type": "code",
   "execution_count": 16,
   "metadata": {
    "collapsed": false
   },
   "outputs": [],
   "source": [
    "h.open(0x1200,0x001)"
   ]
  },
  {
   "cell_type": "code",
   "execution_count": 17,
   "metadata": {
    "collapsed": false
   },
   "outputs": [
    {
     "data": {
      "text/plain": [
       "0"
      ]
     },
     "execution_count": 17,
     "metadata": {},
     "output_type": "execute_result"
    }
   ],
   "source": [
    "h.set_nonblocking(1)"
   ]
  },
  {
   "cell_type": "code",
   "execution_count": 122,
   "metadata": {
    "collapsed": false
   },
   "outputs": [],
   "source": [
    "class Spellman():\n",
    "    \n",
    "    def __init__(self):\n",
    "        self.h = hid.device()\n",
    "        self.h.open(0x1200,0x001)\n",
    "        self.h.set_nonblocking(1)\n",
    "        self.adcscaledict = dict([('kV Feedback',50),\n",
    "                                ('kV Feedback 2',55),\n",
    "                                ('mA Feedback',2.4),\n",
    "                                ('Filament Current(A)', 3.6),\n",
    "                                ('Filament Voltage(V)',5.5),\n",
    "                                ('Control Board Temperature(C)',300),\n",
    "                                ('High Voltage Bd Temperature(C)',300),\n",
    "                                ('Low Voltage Supply Monitor (V)',42.9)])\n",
    "        self.dacscaledict=dict([('kV Setpoint',50),\n",
    "                              ('mA Output Setpoint',2),\n",
    "                              ('Filament Preheat',10),\n",
    "                              ('Filament Limit',10)])\n",
    "        self.cmddict=dict([(14,'Request kV Setpoint'),\n",
    "                           (15,'Request mA Output Setpoint'),\n",
    "                           (16,'Request Filament Preheat'),\n",
    "                           (17,'Request Filament Limit')])\n",
    "        \n",
    "    def calc_checksum(self,bytestr):\n",
    "        strsum = np.sum([c for c in bytestr])\n",
    "        chksum = ((((1<<32)+(~strsum+1)) & 255) & 127) | 64\n",
    "        return chr(chksum).encode('ascii')\n",
    "    \n",
    "    def make_cmdstr(self,cmd,arg=None):\n",
    "        if not arg:\n",
    "            cmdstr = str(cmd)+','\n",
    "        else:\n",
    "            cmdstr = str(cmd)+','+str(arg)+','\n",
    "        cmdstr = cmdstr.encode()\n",
    "        chksum = self.calc_checksum(cmdstr)\n",
    "        msgstr = b'\\x02'+cmdstr+chksum+b'\\x03'\n",
    "        return [i for i in msgstr]\n",
    "    \n",
    "    def parse_output(self,outbytelist):\n",
    "        crop = outbytelist[1:outbytelist.index(3)]\n",
    "        outstr = ''.join([chr(c) for c in crop])\n",
    "        assert self.calc_checksum(outstr[:-1].encode()) == outstr[-1].encode(), \"Checksum error for USB-Spellman communication.\"\n",
    "        responselist = outstr.split(',')\n",
    "        responsedict = dict(cmd=int(responselist.pop(0)),chksum=responselist.pop())\n",
    "        for i, v in enumerate(responselist):\n",
    "            k='arg%d'%(i+1)\n",
    "            responsedict[k]=int(v)\n",
    "        return responsedict\n",
    "    \n",
    "    def monitor(self):\n",
    "        self.h.send_feature_report(self.make_cmdstr(20))\n",
    "        output = self.h.get_feature_report(1,27)\n",
    "        responsedict = self.parse_output(output)\n",
    "        msgdict = dict(arg1 = 'Control Board Temperature(C)',\n",
    "                   arg2 = 'Low Voltage Supply Monitor (V)',\n",
    "                   arg3 = 'kV Feedback',\n",
    "                   arg4 = 'mA Feedback',\n",
    "                   arg5 = 'Filament Current(A)',\n",
    "                   arg6 = 'Filament Voltage(V)',\n",
    "                   arg7 = 'High Voltage Bd Temperature(C)')\n",
    "        for k,v in msgdict.items():\n",
    "            print(msgdict[k]+'\\t'+str(self.adc_scale(responsedict[k],v)))\n",
    "            \n",
    "    def adc_scale(self,val,key):\n",
    "        return val*self.adcscaledict[key]/4095\n",
    "    \n",
    "    def dac_scale(self,val,key):\n",
    "        return int(val*4095/self.dacscaledict[key])\n",
    "    \n",
    "    def sendrecv(self,cmd,arg=None):\n",
    "        self.h.send_feature_report(self.make_cmdstr(cmd,arg))\n",
    "        return self.parse_output(self.h.read(53,100))     \n",
    "    \n",
    "    def request_setpoints(self):\n",
    "        response = [self.sendrecv(i) for i in (14,15,16,17)]\n",
    "        for r in response:\n",
    "            print(self.cmddict[r['cmd']]+': '+str(self.dac_scale(r['arg1'],self.cmddict[r['cmd']][8:])))\n",
    "        return response\n",
    "    \n",
    "    def change_setpoint(self,name,value):\n",
    "        dacvalue = self.dac_scale(value,name)\n",
    "        response = self.sendrecv(13,arg=dacvalue)\n",
    "        return response"
   ]
  },
  {
   "cell_type": "code",
   "execution_count": 127,
   "metadata": {
    "collapsed": true
   },
   "outputs": [],
   "source": [
    "spell.h.close()"
   ]
  },
  {
   "cell_type": "code",
   "execution_count": 124,
   "metadata": {
    "collapsed": false
   },
   "outputs": [],
   "source": [
    "spell = Spellman()"
   ]
  },
  {
   "cell_type": "code",
   "execution_count": 125,
   "metadata": {
    "collapsed": true
   },
   "outputs": [
    {
     "ename": "ValueError",
     "evalue": "invalid literal for int() with base 10: '$'",
     "output_type": "error",
     "traceback": [
      "\u001b[0;31m---------------------------------------------------------------------------\u001b[0m",
      "\u001b[0;31mValueError\u001b[0m                                Traceback (most recent call last)",
      "\u001b[0;32m<ipython-input-125-13fad65cb6c8>\u001b[0m in \u001b[0;36m<module>\u001b[0;34m()\u001b[0m\n\u001b[0;32m----> 1\u001b[0;31m \u001b[0mspell\u001b[0m\u001b[0;34m.\u001b[0m\u001b[0mchange_setpoint\u001b[0m\u001b[0;34m(\u001b[0m\u001b[0;34m'Filament Limit'\u001b[0m\u001b[0;34m,\u001b[0m\u001b[0;36m3\u001b[0m\u001b[0;34m)\u001b[0m\u001b[0;34m\u001b[0m\u001b[0m\n\u001b[0m",
      "\u001b[0;32m<ipython-input-122-acb453e8b7ea>\u001b[0m in \u001b[0;36mchange_setpoint\u001b[0;34m(self, name, value)\u001b[0m\n\u001b[1;32m     80\u001b[0m     \u001b[0;32mdef\u001b[0m \u001b[0mchange_setpoint\u001b[0m\u001b[0;34m(\u001b[0m\u001b[0mself\u001b[0m\u001b[0;34m,\u001b[0m\u001b[0mname\u001b[0m\u001b[0;34m,\u001b[0m\u001b[0mvalue\u001b[0m\u001b[0;34m)\u001b[0m\u001b[0;34m:\u001b[0m\u001b[0;34m\u001b[0m\u001b[0m\n\u001b[1;32m     81\u001b[0m         \u001b[0mdacvalue\u001b[0m \u001b[0;34m=\u001b[0m \u001b[0mself\u001b[0m\u001b[0;34m.\u001b[0m\u001b[0mdac_scale\u001b[0m\u001b[0;34m(\u001b[0m\u001b[0mvalue\u001b[0m\u001b[0;34m,\u001b[0m\u001b[0mname\u001b[0m\u001b[0;34m)\u001b[0m\u001b[0;34m\u001b[0m\u001b[0m\n\u001b[0;32m---> 82\u001b[0;31m         \u001b[0mresponse\u001b[0m \u001b[0;34m=\u001b[0m \u001b[0mself\u001b[0m\u001b[0;34m.\u001b[0m\u001b[0msendrecv\u001b[0m\u001b[0;34m(\u001b[0m\u001b[0;36m13\u001b[0m\u001b[0;34m,\u001b[0m\u001b[0marg\u001b[0m\u001b[0;34m=\u001b[0m\u001b[0mdacvalue\u001b[0m\u001b[0;34m)\u001b[0m\u001b[0;34m\u001b[0m\u001b[0m\n\u001b[0m\u001b[1;32m     83\u001b[0m         \u001b[0;32mreturn\u001b[0m \u001b[0mresponse\u001b[0m\u001b[0;34m\u001b[0m\u001b[0m\n",
      "\u001b[0;32m<ipython-input-122-acb453e8b7ea>\u001b[0m in \u001b[0;36msendrecv\u001b[0;34m(self, cmd, arg)\u001b[0m\n\u001b[1;32m     70\u001b[0m     \u001b[0;32mdef\u001b[0m \u001b[0msendrecv\u001b[0m\u001b[0;34m(\u001b[0m\u001b[0mself\u001b[0m\u001b[0;34m,\u001b[0m\u001b[0mcmd\u001b[0m\u001b[0;34m,\u001b[0m\u001b[0marg\u001b[0m\u001b[0;34m=\u001b[0m\u001b[0;32mNone\u001b[0m\u001b[0;34m)\u001b[0m\u001b[0;34m:\u001b[0m\u001b[0;34m\u001b[0m\u001b[0m\n\u001b[1;32m     71\u001b[0m         \u001b[0mself\u001b[0m\u001b[0;34m.\u001b[0m\u001b[0mh\u001b[0m\u001b[0;34m.\u001b[0m\u001b[0msend_feature_report\u001b[0m\u001b[0;34m(\u001b[0m\u001b[0mself\u001b[0m\u001b[0;34m.\u001b[0m\u001b[0mmake_cmdstr\u001b[0m\u001b[0;34m(\u001b[0m\u001b[0mcmd\u001b[0m\u001b[0;34m,\u001b[0m\u001b[0marg\u001b[0m\u001b[0;34m)\u001b[0m\u001b[0;34m)\u001b[0m\u001b[0;34m\u001b[0m\u001b[0m\n\u001b[0;32m---> 72\u001b[0;31m         \u001b[0;32mreturn\u001b[0m \u001b[0mself\u001b[0m\u001b[0;34m.\u001b[0m\u001b[0mparse_output\u001b[0m\u001b[0;34m(\u001b[0m\u001b[0mself\u001b[0m\u001b[0;34m.\u001b[0m\u001b[0mh\u001b[0m\u001b[0;34m.\u001b[0m\u001b[0mread\u001b[0m\u001b[0;34m(\u001b[0m\u001b[0;36m53\u001b[0m\u001b[0;34m,\u001b[0m\u001b[0;36m100\u001b[0m\u001b[0;34m)\u001b[0m\u001b[0;34m)\u001b[0m\u001b[0;34m\u001b[0m\u001b[0m\n\u001b[0m\u001b[1;32m     73\u001b[0m \u001b[0;34m\u001b[0m\u001b[0m\n\u001b[1;32m     74\u001b[0m     \u001b[0;32mdef\u001b[0m \u001b[0mrequest_setpoints\u001b[0m\u001b[0;34m(\u001b[0m\u001b[0mself\u001b[0m\u001b[0;34m)\u001b[0m\u001b[0;34m:\u001b[0m\u001b[0;34m\u001b[0m\u001b[0m\n",
      "\u001b[0;32m<ipython-input-122-acb453e8b7ea>\u001b[0m in \u001b[0;36mparse_output\u001b[0;34m(self, outbytelist)\u001b[0m\n\u001b[1;32m     45\u001b[0m         \u001b[0;32mfor\u001b[0m \u001b[0mi\u001b[0m\u001b[0;34m,\u001b[0m \u001b[0mv\u001b[0m \u001b[0;32min\u001b[0m \u001b[0menumerate\u001b[0m\u001b[0;34m(\u001b[0m\u001b[0mresponselist\u001b[0m\u001b[0;34m)\u001b[0m\u001b[0;34m:\u001b[0m\u001b[0;34m\u001b[0m\u001b[0m\n\u001b[1;32m     46\u001b[0m             \u001b[0mk\u001b[0m\u001b[0;34m=\u001b[0m\u001b[0;34m'arg%d'\u001b[0m\u001b[0;34m%\u001b[0m\u001b[0;34m(\u001b[0m\u001b[0mi\u001b[0m\u001b[0;34m+\u001b[0m\u001b[0;36m1\u001b[0m\u001b[0;34m)\u001b[0m\u001b[0;34m\u001b[0m\u001b[0m\n\u001b[0;32m---> 47\u001b[0;31m             \u001b[0mresponsedict\u001b[0m\u001b[0;34m[\u001b[0m\u001b[0mk\u001b[0m\u001b[0;34m]\u001b[0m\u001b[0;34m=\u001b[0m\u001b[0mint\u001b[0m\u001b[0;34m(\u001b[0m\u001b[0mv\u001b[0m\u001b[0;34m)\u001b[0m\u001b[0;34m\u001b[0m\u001b[0m\n\u001b[0m\u001b[1;32m     48\u001b[0m         \u001b[0;32mreturn\u001b[0m \u001b[0mresponsedict\u001b[0m\u001b[0;34m\u001b[0m\u001b[0m\n\u001b[1;32m     49\u001b[0m \u001b[0;34m\u001b[0m\u001b[0m\n",
      "\u001b[0;31mValueError\u001b[0m: invalid literal for int() with base 10: '$'"
     ]
    }
   ],
   "source": [
    "spell.change_setpoint('Filament Limit',3)"
   ]
  },
  {
   "cell_type": "code",
   "execution_count": 121,
   "metadata": {
    "collapsed": false
   },
   "outputs": [
    {
     "data": {
      "text/plain": [
       "1228.5"
      ]
     },
     "execution_count": 121,
     "metadata": {},
     "output_type": "execute_result"
    }
   ],
   "source": [
    "spell.dac_scale(3,'Filament Limit')"
   ]
  },
  {
   "cell_type": "code",
   "execution_count": 126,
   "metadata": {
    "collapsed": false,
    "scrolled": false
   },
   "outputs": [
    {
     "name": "stdout",
     "output_type": "stream",
     "text": [
      "Request kV Setpoint: 0\n",
      "Request mA Output Setpoint: 0\n",
      "Request Filament Preheat: 0\n",
      "Request Filament Limit: 502866\n"
     ]
    },
    {
     "data": {
      "text/plain": [
       "[{'arg1': 0, 'chksum': 'S', 'cmd': 14},\n",
       " {'arg1': 0, 'chksum': 'R', 'cmd': 15},\n",
       " {'arg1': 0, 'chksum': 'Q', 'cmd': 16},\n",
       " {'arg1': 1228, 'chksum': 's', 'cmd': 17}]"
      ]
     },
     "execution_count": 126,
     "metadata": {},
     "output_type": "execute_result"
    }
   ],
   "source": [
    "spell.request_setpoints()"
   ]
  },
  {
   "cell_type": "code",
   "execution_count": 110,
   "metadata": {
    "collapsed": false
   },
   "outputs": [
    {
     "name": "stdout",
     "output_type": "stream",
     "text": [
      "mA Feedback\t0.0005860805860805861\n",
      "kV Feedback\t0.01221001221001221\n",
      "Low Voltage Supply Monitor (V)\t24.137142857142855\n",
      "Control Board Temperature(C)\t34.57875457875458\n",
      "Filament Current(A)\t0.0035164835164835165\n",
      "Filament Voltage(V)\t0.002686202686202686\n",
      "High Voltage Bd Temperature(C)\t24.542124542124544\n"
     ]
    }
   ],
   "source": [
    "spell.monitor()"
   ]
  },
  {
   "cell_type": "code",
   "execution_count": 13,
   "metadata": {
    "collapsed": true
   },
   "outputs": [],
   "source": [
    "def spellman_checksum(cmdbytestr):\n",
    "    cmdstrsum = np.sum([c for c in cmdbytestr])\n",
    "    chksum = ((((1<<32)+(~cmdstrsum+1)) & 255) & 127) | 64\n",
    "    return chr(chksum).encode('ascii')"
   ]
  },
  {
   "cell_type": "code",
   "execution_count": 14,
   "metadata": {
    "collapsed": true
   },
   "outputs": [],
   "source": [
    "def spellman_cmdstr(cmd,arg=None):\n",
    "    if not arg:\n",
    "        cmdstr = str(cmd)+','\n",
    "    else:\n",
    "        cmdstr = str(cmd)+','+str(arg)+','\n",
    "    cmdstr = cmdstr.encode()\n",
    "    chksum = spellman_checksum(cmdstr)\n",
    "    msgstr = b'\\x02'+cmdstr+chksum+b'\\x03'\n",
    "    return msgstr"
   ]
  },
  {
   "cell_type": "code",
   "execution_count": 172,
   "metadata": {
    "collapsed": true
   },
   "outputs": [],
   "source": [
    "def spellman_parseoutput(outbytelist):\n",
    "    crop = outbytelist[1:outbytelist.index(3)]\n",
    "    outstr = ''.join([chr(c) for c in crop])\n",
    "    assert spellman_checksum(outstr[:-1].encode()) == outstr[-1].encode(), \"Checksum error for USB-Spellman communication.\"\n",
    "    responselist = outstr.split(',')\n",
    "    responsedict = dict(cmd=responselist.pop(0),chksum=responselist.pop())\n",
    "    for i, v in enumerate(responselist):\n",
    "        k='arg%d'%(i+1)\n",
    "        responsedict[k]=v\n",
    "    return responsedict"
   ]
  },
  {
   "cell_type": "code",
   "execution_count": 204,
   "metadata": {
    "collapsed": true
   },
   "outputs": [],
   "source": [
    "def spellman_monitor(hid):\n",
    "    hid.send_feature_report([i for i in spellman_cmdstr(20)])\n",
    "    output = hid.get_feature_report(1,27)\n",
    "    responsedict = spellman_parseoutput(output)\n",
    "    msgdict = dict(arg1 = 'Control Board Temperature Reading',\n",
    "               arg2 = 'Low Voltage Supply Monitor\\t',\n",
    "               arg3 = 'kV Feedback Reading\\t\\t',\n",
    "               arg4 = 'mA Feedback Reading\\t\\t',\n",
    "               arg5 = 'Filament Current Reading\\t',\n",
    "               arg6 = 'Filament Voltage Reading\\t',\n",
    "               arg7 = 'High Voltage Board Temperature Sensor')\n",
    "    for k,v in msgdict.items():\n",
    "        print(msgdict[k]+'\\t'+str(responsedict[k]))\n",
    "    "
   ]
  },
  {
   "cell_type": "code",
   "execution_count": 209,
   "metadata": {
    "collapsed": true
   },
   "outputs": [],
   "source": [
    "def spellman_analog_scale(reading,fullscale):\n",
    "    scaling = fullscale/4095\n",
    "    return reading*scaling"
   ]
  },
  {
   "cell_type": "code",
   "execution_count": 221,
   "metadata": {
    "collapsed": true
   },
   "outputs": [],
   "source": [
    "adcscaledict=dict([('kV Feedback',50),\n",
    "('kV Feedback 2',55),\n",
    "('mA Feedback',2.4),\n",
    "('Filament Current (A)', 3.6),\n",
    "('Filament Voltage (V)',5.5),\n",
    "('Control Board Temperature(C)',300),\n",
    "('High Voltage Bd Temperature(C)',300),\n",
    "('Low Voltage Supply Monitor (V)',42.9)])"
   ]
  },
  {
   "cell_type": "code",
   "execution_count": 223,
   "metadata": {
    "collapsed": true
   },
   "outputs": [],
   "source": [
    "dacscaledict=dict([('kV Setpoint',50),\n",
    "                  ('mA Setpoint',2),\n",
    "                  ('Filament Preheat',10),\n",
    "                  ('Filament Limit',10)])"
   ]
  },
  {
   "cell_type": "code",
   "execution_count": null,
   "metadata": {
    "collapsed": true
   },
   "outputs": [],
   "source": []
  },
  {
   "cell_type": "code",
   "execution_count": 213,
   "metadata": {
    "collapsed": true
   },
   "outputs": [],
   "source": [
    "adcscaledict = {}"
   ]
  },
  {
   "cell_type": "code",
   "execution_count": 214,
   "metadata": {
    "collapsed": true
   },
   "outputs": [],
   "source": [
    "adcscaledict['kV Feedback']=2"
   ]
  },
  {
   "cell_type": "code",
   "execution_count": 215,
   "metadata": {
    "collapsed": false
   },
   "outputs": [
    {
     "data": {
      "text/plain": [
       "{'kV Feedback': 2}"
      ]
     },
     "execution_count": 215,
     "metadata": {},
     "output_type": "execute_result"
    }
   ],
   "source": [
    "adcscaledict"
   ]
  },
  {
   "cell_type": "code",
   "execution_count": 212,
   "metadata": {
    "collapsed": false
   },
   "outputs": [
    {
     "data": {
      "text/plain": [
       "24.06380952380952"
      ]
     },
     "execution_count": 212,
     "metadata": {},
     "output_type": "execute_result"
    }
   ],
   "source": [
    "spellman_analog_scale(2297,42.9)"
   ]
  },
  {
   "cell_type": "code",
   "execution_count": 208,
   "metadata": {
    "collapsed": false
   },
   "outputs": [
    {
     "name": "stdout",
     "output_type": "stream",
     "text": [
      "Filament Current Reading\t\t3\n",
      "kV Feedback Reading\t\t\t1\n",
      "High Voltage Board Temperature Sensor\t332\n",
      "Filament Voltage Reading\t\t2\n",
      "mA Feedback Reading\t\t\t0\n",
      "Control Board Temperature Reading\t469\n",
      "Low Voltage Supply Monitor\t\t2297\n"
     ]
    }
   ],
   "source": [
    "spellman_monitor(h)"
   ]
  },
  {
   "cell_type": "code",
   "execution_count": 179,
   "metadata": {
    "collapsed": false
   },
   "outputs": [],
   "source": [
    "msgdict = dict(arg1 = 'Control Board Temperature Sensor Reading, range 0-4095',\n",
    "               arg2 = 'Low Voltage Supply Monitor, range 0-4095',\n",
    "               arg3 = 'kV Feedback Reading, range 0-4095',\n",
    "               arg4 = 'mA Feedback Reading, range 0-4095',\n",
    "               arg5 = 'Filament Current Reading, range 0-4095',\n",
    "               arg6 = 'Filament Voltage Reading, range 0-4095',\n",
    "               arg7 = 'High Voltage Board Temperature Sensor, range 0-4095')"
   ]
  },
  {
   "cell_type": "code",
   "execution_count": 182,
   "metadata": {
    "collapsed": false
   },
   "outputs": [
    {
     "data": {
      "text/plain": [
       "{'arg1': 'Control Board Temperature Sensor Reading, range 0-4095',\n",
       " 'arg2': 'Low Voltage Supply Monitor, range 0-4095',\n",
       " 'arg3': 'kV Feedback Reading, range 0-4095',\n",
       " 'arg4': 'mA Feedback Reading, range 0-4095',\n",
       " 'arg5': 'Filament Current Reading, range 0-4095',\n",
       " 'arg6': 'Filament Voltage Reading, range 0-4095',\n",
       " 'arg7': 'High Voltage Board Temperature Sensor, range 0-4095'}"
      ]
     },
     "execution_count": 182,
     "metadata": {},
     "output_type": "execute_result"
    }
   ],
   "source": [
    "for k,"
   ]
  },
  {
   "cell_type": "code",
   "execution_count": 175,
   "metadata": {
    "collapsed": false
   },
   "outputs": [
    {
     "data": {
      "text/plain": [
       "['arg1', 'arg2', 'arg3', 'arg4', 'arg5', 'arg6', 'arg7']"
      ]
     },
     "execution_count": 175,
     "metadata": {},
     "output_type": "execute_result"
    }
   ],
   "source": [
    "['arg%d'%(i+1) for i in range(7)]"
   ]
  },
  {
   "cell_type": "code",
   "execution_count": 171,
   "metadata": {
    "collapsed": true
   },
   "outputs": [],
   "source": [
    "dict?"
   ]
  },
  {
   "cell_type": "code",
   "execution_count": 173,
   "metadata": {
    "collapsed": false
   },
   "outputs": [
    {
     "data": {
      "text/plain": [
       "{'arg1': '466',\n",
       " 'arg2': '2297',\n",
       " 'arg3': '1',\n",
       " 'arg4': '1',\n",
       " 'arg5': '5',\n",
       " 'arg6': '2',\n",
       " 'arg7': '327',\n",
       " 'chksum': 'e',\n",
       " 'cmd': '20'}"
      ]
     },
     "execution_count": 173,
     "metadata": {},
     "output_type": "execute_result"
    }
   ],
   "source": [
    "spellman_parseoutput(h.get_feature_report(1,27))"
   ]
  },
  {
   "cell_type": "code",
   "execution_count": null,
   "metadata": {
    "collapsed": true
   },
   "outputs": [],
   "source": []
  },
  {
   "cell_type": "code",
   "execution_count": 152,
   "metadata": {
    "collapsed": false
   },
   "outputs": [
    {
     "data": {
      "text/plain": [
       "b'i'"
      ]
     },
     "execution_count": 152,
     "metadata": {},
     "output_type": "execute_result"
    }
   ],
   "source": [
    "spellman_checksum('20,465,2292,1,1,5,2,329,'.encode())"
   ]
  },
  {
   "cell_type": "code",
   "execution_count": 156,
   "metadata": {
    "collapsed": false
   },
   "outputs": [],
   "source": [
    "y='20,465,2292,1,1,5,2,329,i'.split(',')"
   ]
  },
  {
   "cell_type": "code",
   "execution_count": 157,
   "metadata": {
    "collapsed": false
   },
   "outputs": [
    {
     "data": {
      "text/plain": [
       "'20'"
      ]
     },
     "execution_count": 157,
     "metadata": {},
     "output_type": "execute_result"
    }
   ],
   "source": [
    "y.pop(0)"
   ]
  },
  {
   "cell_type": "code",
   "execution_count": 158,
   "metadata": {
    "collapsed": false
   },
   "outputs": [
    {
     "data": {
      "text/plain": [
       "['465', '2292', '1', '1', '5', '2', '329', 'i']"
      ]
     },
     "execution_count": 158,
     "metadata": {},
     "output_type": "execute_result"
    }
   ],
   "source": [
    "y"
   ]
  },
  {
   "cell_type": "code",
   "execution_count": 159,
   "metadata": {
    "collapsed": false
   },
   "outputs": [
    {
     "name": "stdout",
     "output_type": "stream",
     "text": [
      "Object `pop` not found.\n"
     ]
    }
   ],
   "source": []
  },
  {
   "cell_type": "code",
   "execution_count": 161,
   "metadata": {
    "collapsed": false
   },
   "outputs": [
    {
     "data": {
      "text/plain": [
       "{'chksum': 'i', 'cmd': '20'}"
      ]
     },
     "execution_count": 161,
     "metadata": {},
     "output_type": "execute_result"
    }
   ],
   "source": [
    "spellman_parseoutput(bl)"
   ]
  },
  {
   "cell_type": "code",
   "execution_count": 129,
   "metadata": {
    "collapsed": false
   },
   "outputs": [
    {
     "data": {
      "text/plain": [
       "26"
      ]
     },
     "execution_count": 129,
     "metadata": {},
     "output_type": "execute_result"
    }
   ],
   "source": [
    "bl.index(3)"
   ]
  },
  {
   "cell_type": "code",
   "execution_count": 127,
   "metadata": {
    "collapsed": true
   },
   "outputs": [],
   "source": [
    "bl.insert(26,3)"
   ]
  },
  {
   "cell_type": "code",
   "execution_count": 144,
   "metadata": {
    "collapsed": false
   },
   "outputs": [
    {
     "data": {
      "text/plain": [
       "[50,\n",
       " 48,\n",
       " 44,\n",
       " 52,\n",
       " 54,\n",
       " 53,\n",
       " 44,\n",
       " 50,\n",
       " 50,\n",
       " 57,\n",
       " 50,\n",
       " 44,\n",
       " 49,\n",
       " 44,\n",
       " 49,\n",
       " 44,\n",
       " 53,\n",
       " 44,\n",
       " 50,\n",
       " 44,\n",
       " 51,\n",
       " 50,\n",
       " 57,\n",
       " 44,\n",
       " 105]"
      ]
     },
     "execution_count": 144,
     "metadata": {},
     "output_type": "execute_result"
    }
   ],
   "source": [
    "bl[1:bl.index(3)]"
   ]
  },
  {
   "cell_type": "code",
   "execution_count": 121,
   "metadata": {
    "collapsed": false
   },
   "outputs": [],
   "source": [
    "bl.append(0)"
   ]
  },
  {
   "cell_type": "code",
   "execution_count": null,
   "metadata": {
    "collapsed": true
   },
   "outputs": [],
   "source": []
  },
  {
   "cell_type": "code",
   "execution_count": 3,
   "metadata": {
    "collapsed": true
   },
   "outputs": [
    {
     "name": "stdout",
     "output_type": "stream",
     "text": [
      "interface_number : 0\n",
      "manufacturer_string : SPELLMAN HIGH VOLTAGE CORP .\n",
      "path : b'0001:000e:00'\n",
      "product_id : 1\n",
      "product_string : SPLLMAN MICRO X  \n",
      "release_number : 256\n",
      "serial_number : \n",
      "usage : 0\n",
      "usage_page : 0\n",
      "vendor_id : 4608\n",
      "\n",
      "interface_number : 0\n",
      "manufacturer_string : \n",
      "path : b'0001:0003:00'\n",
      "product_id : 19938\n",
      "product_string : \n",
      "release_number : 512\n",
      "serial_number : \n",
      "usage : 0\n",
      "usage_page : 0\n",
      "vendor_id : 1121\n",
      "\n"
     ]
    }
   ],
   "source": [
    "for d in hid.enumerate():\n",
    "    keys = list(d.keys())\n",
    "    keys.sort()\n",
    "    for key in keys:\n",
    "        print(\"%s : %s\" % (key, d[key]))\n",
    "    print()"
   ]
  },
  {
   "cell_type": "code",
   "execution_count": 15,
   "metadata": {
    "collapsed": true
   },
   "outputs": [],
   "source": [
    "h=hid.device()"
   ]
  },
  {
   "cell_type": "code",
   "execution_count": 16,
   "metadata": {
    "collapsed": false
   },
   "outputs": [],
   "source": [
    "h.open(0x1200,0x001)"
   ]
  },
  {
   "cell_type": "code",
   "execution_count": 17,
   "metadata": {
    "collapsed": false
   },
   "outputs": [
    {
     "data": {
      "text/plain": [
       "0"
      ]
     },
     "execution_count": 17,
     "metadata": {},
     "output_type": "execute_result"
    }
   ],
   "source": [
    "h.set_nonblocking(1)"
   ]
  },
  {
   "cell_type": "code",
   "execution_count": 26,
   "metadata": {
    "collapsed": false
   },
   "outputs": [
    {
     "data": {
      "text/plain": [
       "[2, 50, 50, 44, 112, 3]"
      ]
     },
     "execution_count": 26,
     "metadata": {},
     "output_type": "execute_result"
    }
   ],
   "source": [
    "[i for i in spellman_cmdstr(20)]"
   ]
  },
  {
   "cell_type": "code",
   "execution_count": 115,
   "metadata": {
    "collapsed": false
   },
   "outputs": [
    {
     "data": {
      "text/plain": [
       "6"
      ]
     },
     "execution_count": 115,
     "metadata": {},
     "output_type": "execute_result"
    }
   ],
   "source": [
    "h.send_feature_report([i for i in spellman_cmdstr(20)])"
   ]
  },
  {
   "cell_type": "code",
   "execution_count": 116,
   "metadata": {
    "collapsed": false
   },
   "outputs": [
    {
     "data": {
      "text/plain": [
       "'\\x0220,466,2297,1,1,5,2,327,e\\x03\\x00\\x00\\x00\\x00\\x00\\x00\\x00\\x00\\x00\\x00\\x00\\x00\\x00\\x00\\x00\\x00\\x00\\x00\\x00\\x00\\x00\\x00\\x00\\x00\\x00\\x00'"
      ]
     },
     "execution_count": 116,
     "metadata": {},
     "output_type": "execute_result"
    }
   ],
   "source": [
    "''.join([chr(c)for c in h.read(53,100)])"
   ]
  },
  {
   "cell_type": "code",
   "execution_count": 89,
   "metadata": {
    "collapsed": false
   },
   "outputs": [
    {
     "data": {
      "text/plain": [
       "'\\x0220,465,2292,1,1,5,2,329,i\\x03'"
      ]
     },
     "execution_count": 89,
     "metadata": {},
     "output_type": "execute_result"
    }
   ],
   "source": [
    "''.join([chr(c)for c in h.get_feature_report(1,27)])"
   ]
  },
  {
   "cell_type": "code",
   "execution_count": 80,
   "metadata": {
    "collapsed": true
   },
   "outputs": [],
   "source": [
    "out = '\\x0220,465,2292,1,1,5,2,329,i\\x03'"
   ]
  },
  {
   "cell_type": "code",
   "execution_count": 91,
   "metadata": {
    "collapsed": false
   },
   "outputs": [],
   "source": [
    "a=out[1:-1]"
   ]
  },
  {
   "cell_type": "code",
   "execution_count": 93,
   "metadata": {
    "collapsed": false
   },
   "outputs": [
    {
     "data": {
      "text/plain": [
       "'i'"
      ]
     },
     "execution_count": 93,
     "metadata": {},
     "output_type": "execute_result"
    }
   ],
   "source": [
    "a[-1]"
   ]
  },
  {
   "cell_type": "code",
   "execution_count": 94,
   "metadata": {
    "collapsed": false
   },
   "outputs": [
    {
     "data": {
      "text/plain": [
       "b'@'"
      ]
     },
     "execution_count": 94,
     "metadata": {},
     "output_type": "execute_result"
    }
   ],
   "source": [
    "spellman_checksum(out[1:-1].encode())"
   ]
  },
  {
   "cell_type": "code",
   "execution_count": null,
   "metadata": {
    "collapsed": true
   },
   "outputs": [],
   "source": []
  },
  {
   "cell_type": "code",
   "execution_count": 11,
   "metadata": {
    "collapsed": false
   },
   "outputs": [
    {
     "data": {
      "text/plain": [
       "''"
      ]
     },
     "execution_count": 11,
     "metadata": {},
     "output_type": "execute_result"
    }
   ],
   "source": [
    "h.error()"
   ]
  },
  {
   "cell_type": "code",
   "execution_count": null,
   "metadata": {
    "collapsed": true
   },
   "outputs": [],
   "source": []
  }
 ],
 "metadata": {
  "anaconda-cloud": {},
  "kernelspec": {
   "display_name": "Python [default]",
   "language": "python",
   "name": "python3"
  },
  "language_info": {
   "codemirror_mode": {
    "name": "ipython",
    "version": 3
   },
   "file_extension": ".py",
   "mimetype": "text/x-python",
   "name": "python",
   "nbconvert_exporter": "python",
   "pygments_lexer": "ipython3",
   "version": "3.5.2"
  }
 },
 "nbformat": 4,
 "nbformat_minor": 1
}
