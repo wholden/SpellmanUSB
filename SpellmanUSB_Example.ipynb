{
 "cells": [
  {
   "cell_type": "markdown",
   "metadata": {},
   "source": [
    "### Example notebook demonstrating typical usage:"
   ]
  },
  {
   "cell_type": "markdown",
   "metadata": {},
   "source": [
    "Note that '$' is the response from the Spellman when a proper command is issued."
   ]
  },
  {
   "cell_type": "code",
   "execution_count": 1,
   "metadata": {
    "collapsed": true
   },
   "outputs": [],
   "source": [
    "import SpellmanUSB"
   ]
  },
  {
   "cell_type": "code",
   "execution_count": 2,
   "metadata": {
    "collapsed": false
   },
   "outputs": [],
   "source": [
    "SpellmanUSB.initialize()"
   ]
  },
  {
   "cell_type": "code",
   "execution_count": 3,
   "metadata": {
    "collapsed": false
   },
   "outputs": [
    {
     "name": "stdout",
     "output_type": "stream",
     "text": [
      "Current kV Setpoint: 0.0\n",
      "Current mA Output Setpoint: 0.0\n",
      "Current Filament Preheat: 0.0\n",
      "Current Filament Limit: 0.0\n"
     ]
    },
    {
     "data": {
      "text/plain": [
       "{'Filament Limit': {'arg1': 0},\n",
       " 'Filament Preheat': {'arg1': 0},\n",
       " 'kV Setpoint': {'arg1': 0},\n",
       " 'mA Output Setpoint': {'arg1': 0}}"
      ]
     },
     "execution_count": 3,
     "metadata": {},
     "output_type": "execute_result"
    }
   ],
   "source": [
    "SpellmanUSB.check_setpoints()"
   ]
  },
  {
   "cell_type": "code",
   "execution_count": 4,
   "metadata": {
    "collapsed": false
   },
   "outputs": [
    {
     "name": "stdout",
     "output_type": "stream",
     "text": [
      "Filament Preheat changed to: 1.5\n",
      "Filament Limit changed to: 3.1\n",
      "kV Setpoint changed to: 25\n",
      "mA Output Setpoint changed to: 1\n"
     ]
    },
    {
     "data": {
      "text/plain": [
       "{'arg1': '$'}"
      ]
     },
     "execution_count": 4,
     "metadata": {},
     "output_type": "execute_result"
    }
   ],
   "source": [
    "SpellmanUSB.change_setpoint('Filament Preheat',1.5)\n",
    "SpellmanUSB.change_setpoint('Filament Limit',3.1)\n",
    "SpellmanUSB.change_setpoint('kV Setpoint',25)\n",
    "SpellmanUSB.change_setpoint('mA Output Setpoint',1)"
   ]
  },
  {
   "cell_type": "code",
   "execution_count": 5,
   "metadata": {
    "collapsed": false
   },
   "outputs": [
    {
     "name": "stdout",
     "output_type": "stream",
     "text": [
      "High voltage ON.\n"
     ]
    },
    {
     "data": {
      "text/plain": [
       "'$'"
      ]
     },
     "execution_count": 5,
     "metadata": {},
     "output_type": "execute_result"
    }
   ],
   "source": [
    "SpellmanUSB.engage_high_voltage()"
   ]
  },
  {
   "cell_type": "code",
   "execution_count": 6,
   "metadata": {
    "collapsed": false
   },
   "outputs": [
    {
     "name": "stdout",
     "output_type": "stream",
     "text": [
      "Control Board Temperature(C): 55.23809523809524\n",
      "kV Feedback: 25.01831501831502\n",
      "Filament Current(A): 2.99956043956044\n",
      "High Voltage Bd Temperature(C): 51.42857142857143\n",
      "mA Feedback: 0.9992673992673993\n",
      "Low Voltage Supply Monitor (V): 24.17904761904762\n",
      "Filament Voltage(V): 2.537118437118437\n"
     ]
    }
   ],
   "source": [
    "SpellmanUSB.monitor_readbacks()"
   ]
  },
  {
   "cell_type": "code",
   "execution_count": 7,
   "metadata": {
    "collapsed": false
   },
   "outputs": [
    {
     "name": "stdout",
     "output_type": "stream",
     "text": [
      "High voltage OFF.\n"
     ]
    },
    {
     "data": {
      "text/plain": [
       "'$'"
      ]
     },
     "execution_count": 7,
     "metadata": {},
     "output_type": "execute_result"
    }
   ],
   "source": [
    "SpellmanUSB.disengage_high_voltage()"
   ]
  },
  {
   "cell_type": "code",
   "execution_count": 8,
   "metadata": {
    "collapsed": false
   },
   "outputs": [
    {
     "name": "stdout",
     "output_type": "stream",
     "text": [
      "HV off\n",
      "Interlock Closed\n",
      "No Fault\n"
     ]
    }
   ],
   "source": [
    "SpellmanUSB.request_status()"
   ]
  },
  {
   "cell_type": "code",
   "execution_count": 9,
   "metadata": {
    "collapsed": true
   },
   "outputs": [],
   "source": [
    "SpellmanUSB.close_usb_connection()"
   ]
  }
 ],
 "metadata": {
  "anaconda-cloud": {},
  "kernelspec": {
   "display_name": "Python [default]",
   "language": "python",
   "name": "python3"
  },
  "language_info": {
   "codemirror_mode": {
    "name": "ipython",
    "version": 3
   },
   "file_extension": ".py",
   "mimetype": "text/x-python",
   "name": "python",
   "nbconvert_exporter": "python",
   "pygments_lexer": "ipython3",
   "version": "3.5.2"
  }
 },
 "nbformat": 4,
 "nbformat_minor": 1
}
